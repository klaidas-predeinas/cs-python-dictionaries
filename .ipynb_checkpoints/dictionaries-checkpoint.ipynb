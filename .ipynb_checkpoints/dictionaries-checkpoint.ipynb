{
 "cells": [
  {
   "cell_type": "markdown",
   "metadata": {},
   "source": [
    "## Dictionaries in Python\n",
    "\n",
    "A very useful data type built into Python is the **dictionary**  \n",
    "\n",
    "\n",
    "Unlike sequences, which are indexed by a range of numbers, dictionaries are indexed by **keys**, which can be any type; strings and numbers can always be keys.  But, you can’t use lists as keys, since lists can be modified.\n",
    "\n",
    "It is best to think of a dictionary as an unordered set of **key: value** pairs, with the requirement that the keys are unique (no two can be the same within one dictionary). \n",
    "\n",
    "## Syntax of dictionaries\n",
    "\n",
    "A pair of curly braces creates an empty dictionary: {} \n",
    "\n",
    "``` myDict = {} # creates an empty dictionary data structure ```\n",
    "\n",
    "Placing a comma-separated list of **key:value** pairs within the braces adds initial key:value pairs to the dictionary\n",
    "\n",
    "``` birthdayDictionary = {\"Ana\": \"29/2\", \"Barb\" : \"12/4\", \"Charles\" : \"13/6\"} ```\n",
    "\n",
    "The **key** can then be used an you would an index in a list (ie within the square brackets), so\n",
    "\n",
    "``` birthdayDictionary[\"Ana\"] ```\n",
    "\n",
    "will return \"29/2\", while\n",
    "\n",
    "``` birthdayDictionary[\"Charles\"] ```\n",
    "\n",
    "will return \"13/6\""
   ]
  },
  {
   "cell_type": "code",
   "execution_count": 1,
   "metadata": {},
   "outputs": [
    {
     "name": "stdout",
     "output_type": "stream",
     "text": [
      "29/2\n",
      "12/4\n",
      "13/6\n"
     ]
    }
   ],
   "source": [
    "birthdayDictionary = {\"Ana\": \"29/2\", \"Barb\" : \"12/4\", \"Charles\" : \"13/6\"}\n",
    "# get Ana's birthday\n",
    "print(birthdayDictionary['Ana'])\n",
    "#get Barb's birthday\n",
    "print(birthdayDictionary['Barb'])\n",
    "#get Charles' birthday\n",
    "print(birthdayDictionary['Charles'])"
   ]
  },
  {
   "cell_type": "markdown",
   "metadata": {},
   "source": [
    "## Adding key:value pairs to a dictionary\n",
    "\n",
    "This is as simple as:\n",
    "\n",
    "``` birthdayDictionary[\"Tina\"] = \"2/01\" ```"
   ]
  },
  {
   "cell_type": "code",
   "execution_count": 2,
   "metadata": {},
   "outputs": [
    {
     "name": "stdout",
     "output_type": "stream",
     "text": [
      "{'Charles': '13/6', 'Barb': '12/4', 'alisa': '31/12', 'Tina': '2/01', 'bob': '1/12', 'Ana': '29/2', 'jimmy': '1/01'}\n",
      "{'Charles': '13/6', 'Barb': '12/4', 'alisa': '30/12', 'Tina': '2/01', 'bob': '1/12', 'Ana': '29/2', 'jimmy': '1/01'}\n"
     ]
    }
   ],
   "source": [
    "birthdayDictionary[\"Tina\"] = \"2/01\"\n",
    "\n",
    "# add 3 more birthdays to this \n",
    "birthdayDictionary['jimmy'] = '1/01'\n",
    "birthdayDictionary['bob'] = '1/12'\n",
    "birthdayDictionary['alisa'] = '31/12'\n",
    "\n",
    "print(birthdayDictionary)\n",
    "\n",
    "#what happens when you attempt to add a new key:value pair where the key is NOT unique // doesn't add anything or it would update it\n",
    "birthdayDictionary['alisa'] = '30/12'\n",
    "\n",
    "print(birthdayDictionary)"
   ]
  },
  {
   "cell_type": "markdown",
   "metadata": {},
   "source": [
    "## Using a loop to step through a dictionary\n",
    "\n",
    "A dictionary is a sequence so can be iterated through, as with a list."
   ]
  },
  {
   "cell_type": "code",
   "execution_count": 3,
   "metadata": {},
   "outputs": [
    {
     "name": "stdout",
     "output_type": "stream",
     "text": [
      "key=  Charles  value=  13/6\n",
      "key=  Barb  value=  12/4\n",
      "key=  alisa  value=  30/12\n",
      "key=  Tina  value=  2/01\n",
      "key=  bob  value=  1/12\n",
      "key=  Ana  value=  29/2\n",
      "key=  jimmy  value=  1/01\n",
      "Charles : 13/6\n",
      "Barb : 12/4\n",
      "alisa : 30/12\n",
      "Tina : 2/01\n",
      "bob : 1/12\n",
      "Ana : 29/2\n",
      "jimmy : 1/01\n"
     ]
    }
   ],
   "source": [
    "#first simple way to iterate through a dictionary\n",
    "for key in birthdayDictionary:\n",
    "    print(\"key= \", key, \" value= \", birthdayDictionary[key])\n",
    "\n",
    "\n",
    "#another way to print all the key:value pairs\n",
    "for key, value in birthdayDictionary.items():\n",
    "    print(key, \":\", value)\n"
   ]
  },
  {
   "cell_type": "markdown",
   "metadata": {},
   "source": [
    "## Testing whether a key is in a dictionary\n",
    "\n",
    "really each with the ``` in ``` operator"
   ]
  },
  {
   "cell_type": "code",
   "execution_count": 4,
   "metadata": {},
   "outputs": [
    {
     "name": "stdout",
     "output_type": "stream",
     "text": [
      "the key tina does not exist in the birthday dictioanry\n"
     ]
    }
   ],
   "source": [
    "key = \"tina\"\n",
    "\n",
    "if key in birthdayDictionary:\n",
    "    print(\"yes its there!\")\n",
    "else:\n",
    "    print(\"the key\", key, \"does not exist in the birthday dictioanry\")"
   ]
  },
  {
   "cell_type": "code",
   "execution_count": 5,
   "metadata": {},
   "outputs": [
    {
     "name": "stdout",
     "output_type": "stream",
     "text": [
      "enter a new key - your friend's name. This must be unique!\n",
      "enter a new value - that friend's favourite colour\n",
      "do you want to continue? y/n\n"
     ]
    },
    {
     "data": {
      "text/plain": [
       "{'': ''}"
      ]
     },
     "execution_count": 5,
     "metadata": {},
     "output_type": "execute_result"
    }
   ],
   "source": [
    "## Filling a dictionary with user input\n",
    "def fillDict():\n",
    "\n",
    "    newDict = {}\n",
    "    cont = 'y' # assume the user wants to run the loop at least once\n",
    "    while cont == 'y':\n",
    "        key=input(\"enter a new key - your friend's name. This must be unique!\")\n",
    "        val=input(\"enter a new value - that friend's favourite colour\")\n",
    "        newDict[key]=val\n",
    "        cont = input(\"do you want to continue? y/n\").lower()\n",
    "        \n",
    "    return newDict\n",
    "\n",
    "myDict=fillDict()\n",
    "myDict"
   ]
  },
  {
   "cell_type": "markdown",
   "metadata": {},
   "source": [
    "## Task - query the dictionary\n",
    "\n",
    "Allow the user to enter the name of a friend and tell them that friend's favourite colour\n",
    "\n",
    "### extention - make your code robust\n",
    "\n",
    "An error could occur if a friend, who's name is not in the dictionary, is entered. Use a try/ec"
   ]
  },
  {
   "cell_type": "code",
   "execution_count": 6,
   "metadata": {},
   "outputs": [
    {
     "name": "stdout",
     "output_type": "stream",
     "text": [
      "enter a friends name, to find out what favourite colour they have: \n",
      "\n"
     ]
    }
   ],
   "source": [
    "name = input('enter a friends name, to find out what favourite colour they have: ')\n",
    "try:\n",
    "    print(myDict[name])\n",
    "    \n",
    "except KeyError:\n",
    "    print('This name is not in my dictionary')"
   ]
  },
  {
   "cell_type": "markdown",
   "metadata": {},
   "source": [
    "## Creating a dictionary with data from a CSV file"
   ]
  },
  {
   "cell_type": "code",
   "execution_count": 7,
   "metadata": {},
   "outputs": [
    {
     "name": "stdout",
     "output_type": "stream",
     "text": [
      "['Python', 'Guido von Rossum']\n",
      "['C', 'Brian Kernighan and Dennis Ritchie']\n",
      "['Pascal', 'Nicholas Wirth']\n",
      "['Ada', 'Jean Ichbiah']\n",
      "['COBOL', 'Jean E. Sammet']\n",
      "['Javascript', 'Brendan Eich']\n",
      "['Java', 'James Gosling']\n",
      "['Processing', 'Casey Reas and Benjamin Fry']\n",
      "{'COBOL': 'Jean E. Sammet', 'Javascript': 'Brendan Eich', 'Python': 'Guido von Rossum', 'Processing': 'Casey Reas and Benjamin Fry', 'Java': 'James Gosling', 'Ada': 'Jean Ichbiah', 'C': 'Brian Kernighan and Dennis Ritchie', 'Pascal': 'Nicholas Wirth'}\n"
     ]
    }
   ],
   "source": [
    "import csv\n",
    "\n",
    "def loadDictFromCSV():\n",
    "    #Sets up the file for reading\n",
    "    with open(\"languages.csv\",\"r\") as f:\n",
    "        reader=csv.reader(f)\n",
    "        #Where we're going to be storing the recipes dictionary\n",
    "        dictionary={}\n",
    "        for row in reader:\n",
    "            print(row) #debug - to see what this is, what data structure and how to access it\n",
    "            index = row[0]\n",
    "            value=row[1]\n",
    "            #Then stores the recipe in the dictionary under the recipe name\n",
    "            dictionary[index]=value\n",
    "        return dictionary\n",
    "    \n",
    "myLangDict = loadDictFromCSV()\n",
    "print(myLangDict)"
   ]
  },
  {
   "cell_type": "markdown",
   "metadata": {},
   "source": [
    "## Querying a dictionary"
   ]
  },
  {
   "cell_type": "code",
   "execution_count": 8,
   "metadata": {},
   "outputs": [
    {
     "name": "stdout",
     "output_type": "stream",
     "text": [
      "the name of the programming language you want to know the author of\n"
     ]
    },
    {
     "ename": "KeyError",
     "evalue": "''",
     "output_type": "error",
     "traceback": [
      "\u001b[0;31m---------------------------------------------------------------------------\u001b[0m",
      "\u001b[0;31mKeyError\u001b[0m                                  Traceback (most recent call last)",
      "\u001b[0;32m<ipython-input-8-e05ffb388e0e>\u001b[0m in \u001b[0;36m<module>\u001b[0;34m()\u001b[0m\n\u001b[1;32m      4\u001b[0m \u001b[0;32mwhile\u001b[0m \u001b[0mcont\u001b[0m \u001b[0;34m==\u001b[0m \u001b[0;34m'y'\u001b[0m\u001b[0;34m:\u001b[0m\u001b[0;34m\u001b[0m\u001b[0m\n\u001b[1;32m      5\u001b[0m     \u001b[0mkey\u001b[0m\u001b[0;34m=\u001b[0m\u001b[0minput\u001b[0m\u001b[0;34m(\u001b[0m\u001b[0;34m\"the name of the programming language you want to know the author of\"\u001b[0m\u001b[0;34m)\u001b[0m\u001b[0;34m\u001b[0m\u001b[0m\n\u001b[0;32m----> 6\u001b[0;31m     \u001b[0mauthor\u001b[0m \u001b[0;34m=\u001b[0m \u001b[0mmyLangDict\u001b[0m\u001b[0;34m[\u001b[0m\u001b[0mkey\u001b[0m\u001b[0;34m]\u001b[0m\u001b[0;34m\u001b[0m\u001b[0m\n\u001b[0m\u001b[1;32m      7\u001b[0m     \u001b[0mprint\u001b[0m\u001b[0;34m(\u001b[0m\u001b[0;34m\"the author of \"\u001b[0m\u001b[0;34m,\u001b[0m \u001b[0mkey\u001b[0m\u001b[0;34m,\u001b[0m \u001b[0;34m\" is \"\u001b[0m\u001b[0;34m,\u001b[0m \u001b[0mauthor\u001b[0m\u001b[0;34m)\u001b[0m\u001b[0;34m\u001b[0m\u001b[0m\n\u001b[1;32m      8\u001b[0m     \u001b[0mcont\u001b[0m \u001b[0;34m=\u001b[0m \u001b[0minput\u001b[0m\u001b[0;34m(\u001b[0m\u001b[0;34m\"do you want to find out another? y/n\"\u001b[0m\u001b[0;34m)\u001b[0m\u001b[0;34m.\u001b[0m\u001b[0mlower\u001b[0m\u001b[0;34m(\u001b[0m\u001b[0;34m)\u001b[0m\u001b[0;34m\u001b[0m\u001b[0m\n",
      "\u001b[0;31mKeyError\u001b[0m: ''"
     ]
    }
   ],
   "source": [
    "# allow the user to query the dictionary\n",
    "\n",
    "cont = 'y' # assume the user wants to run the loop at least once\n",
    "while cont == 'y':\n",
    "    key=input(\"the name of the programming language you want to know the author of\")\n",
    "    author = myLangDict[key]\n",
    "    print(\"the author of \", key, \" is \", author)\n",
    "    cont = input(\"do you want to find out another? y/n\").lower()\n",
    "\n",
    "\n",
    "# improve this code so that it gives and error message when the user enters an language incorrectly or one that does not \n",
    "# exisit in the dictionary - use try/except to catch the KeyError"
   ]
  },
  {
   "cell_type": "markdown",
   "metadata": {},
   "source": [
    "## references\n",
    "\n",
    "https://www.tutorialspoint.com/python/python_dictionary.htm\n",
    "\n",
    "https://docs.python.org/3/tutorial/datastructures.html"
   ]
  },
  {
   "cell_type": "markdown",
   "metadata": {},
   "source": [
    "## Task: Recipes\n",
    "\n",
    "Use the CSV file recipes.csv that you have been given\n",
    "The format is as follows:\n",
    "``` \n",
    "Name of recipe, Num of servings, ingredient1, amount1, unit1, ingredient2, amount2, unit2, .... .... .....\n",
    "Buttery Scones, 8, flour, 225, grams, sugar, 25, grams, milk, 150, ml, egg, 1, , butter, 55, grams, salt, 1, pinch \n",
    "```\n",
    "1) Write code that will read the recipe information into a dictionary. The key should be the name of the recipe and the value will be a list of ingredients like this:\n",
    "\n",
    "```\n",
    "{'Bolognaise sauce': [' 4', ' minced beef', ' 255', ' grams', ' olive oil', ' 2', ' tbsp', ' onion', ' 1', ' ', ' green pepper', '1', '', ' garlic', ' 1', ' clove', ' tinned tomatoes', ' 400', ' grams', ' red wine', ' 150', ' ml'], 'Buttery Scones': [' 8', ' flour', ' 225', ' grams', ' sugar', ' 25', ' grams', ' milk', ' 150', ' ml', ' egg', ' 1', ' ', ' butter', ' 55', ' grams', ' salt', ' 1', ' pinch'], 'Hollandaise Sauce': [' 2', ' vinegar', ' 3', ' tbsp', ' peppercorns', ' 6', ' ', ' bay leaf', ' 1', ' ', ' eggs', ' 2', ' ', ' butter', ' 125', ' grams'], 'Goats cheese tart': [' 12', ' puff pastry', ' 1 ', ' packet', \" goat's cheese\", ' 120', ' grams', ' figs', ' 4', ' ', ' honey', ' 25', ' ml']}\n",
    "\n",
    "```\n",
    "\n",
    "2) Now print out the recipe that the user wants to see. First just print the list, then try to print it in a more pleasing format\n",
    "\n",
    "3) Now allow the user to enter a new recipe. \n",
    "\n",
    "- First the name of the recipe, \n",
    "- then the number of servings\n",
    "- then the ingredients in 3 steps: name, amount, unit (which may be left empty)\n",
    "\n",
    "4) Now allow the user to enter the number of servings they want and write code to recalculate the amount of ingredients needed for that number of servings. \n"
   ]
  },
  {
   "cell_type": "code",
   "execution_count": null,
   "metadata": {},
   "outputs": [],
   "source": [
    "def loadRecipes():\n",
    "    #Sets up the file for reading\n",
    "    with open(\"recipes.csv\",\"r\") as f:\n",
    "        reader=csv.reader(f)\n",
    "        #Where we're going to be storing the recipes dictionary\n",
    "        recipes={}\n",
    "        for row in reader:\n",
    "            #Then stores the recipe in the dictionary under the recipe name\n",
    "            recipes[row[0]]=row[1:]\n",
    "        return recipes\n",
    "recipes=loadRecipes()\n",
    "print(recipes)"
   ]
  },
  {
   "cell_type": "code",
   "execution_count": 10,
   "metadata": {},
   "outputs": [
    {
     "name": "stdout",
     "output_type": "stream",
     "text": [
      "Enter the name of the recipe: Bolognaise sauce\n",
      "How many servings do you want 4\n",
      "Number of Servings: 4\n",
      "ingredients: minced beef, amount:255.0\n",
      "ingredients: olive oil, amount:2.0\n",
      "ingredients: onion, amount:1.0\n",
      "ingredients: green pepper, amount:1.0\n",
      "ingredients: garlic, amount:1.0\n",
      "ingredients: tinned tomatoes, amount:400.0\n",
      "ingredients: red wine, amount:150.0\n",
      "do you want to continue(y/n): y\n",
      "Enter the name of the recipe: Bolognaise sauce\n",
      "How many servings do you want 2\n",
      "Number of Servings: 2\n",
      "ingredients: minced beef, amount:127.5\n",
      "ingredients: olive oil, amount:1.0\n",
      "ingredients: onion, amount:0.5\n",
      "ingredients: green pepper, amount:0.5\n",
      "ingredients: garlic, amount:0.5\n",
      "ingredients: tinned tomatoes, amount:200.0\n",
      "ingredients: red wine, amount:75.0\n",
      "do you want to continue(y/n): Bolognaise sauce\n"
     ]
    }
   ],
   "source": [
    "def RequestRecipes():\n",
    "    with open(\"recipes.csv\",\"r\") as f:\n",
    "        reader=csv.reader(f)\n",
    "        recipes={}\n",
    "        for row in reader:\n",
    "            recipes[row[0]]=row[1:]\n",
    "        cont = 'y'\n",
    "        while cont == 'y':\n",
    "            recipe = input('Enter the name of the recipe: ')\n",
    "            #serving = input('How many servings do you want')\n",
    "            serving = input('How many servings do you want ')\n",
    "            print('Number of Servings:', serving)\n",
    "            serv = float(recipes[recipe][0])\n",
    "            for length in range(1,len(recipes[recipe]),3):\n",
    "                ing = 'ingredients:{}, amount:{}'.format(recipes[recipe][length], (float(recipes[recipe][length+1])/serv)*float(serving), recipes[recipe][length+2])\n",
    "                print(ing)\n",
    "            cont = input('do you want to continue(y/n): ').lower()\n",
    "    \n",
    "\n",
    "def servings():\n",
    "    with open(\"recipes.csv\",\"r\") as f:\n",
    "        reader=csv.reader(f)\n",
    "        recipes={}\n",
    "        for row in reader:\n",
    "            recipes[row[0]]=row[1:]\n",
    "            \n",
    "        recipe = input('Enter the name of the recipe: ')\n",
    "        serving = input('How many servings do you want ')\n",
    "        \n",
    "        serv = float(recipes[recipe][0])\n",
    "        for length in range(1,len(recipes[recipe]),3):\n",
    "            print((serv/serv)*float(serving),'servings', recipes[recipe][length], (float(recipes[recipe][length+1])/serv)*float(serving), recipes[recipe][length+2])\n",
    "\n",
    "    \n",
    "RequestRecipes()"
   ]
  },
  {
   "cell_type": "code",
   "execution_count": null,
   "metadata": {},
   "outputs": [],
   "source": [
    "recipeName=input(\"Recipe name: \")\n",
    "#Keep requesting until the user gives a recipe name that exists\n",
    "while recipeName not in recipes:\n",
    "    print(\"Error: Recipe does not exist\")\n",
    "    recipeName=getString(\"Recipe name: \")\n",
    "#Get number of servings\n",
    "newNumberOfPeople=int(input(\"Servings: \"))\n",
    "#Have to take in parallel chunks of 3\n",
    "for i in range(1,len(recipes[recipeName]),3):\n",
    "    item=recipes[recipeName][i]\n",
    "    amount=recipes[recipeName][i+1]\n",
    "    unit=recipes[recipeName][i+2]\n",
    "    print(item+\": \"+str(float(amount)*float(newNumberOfPeople)/float(recipes[recipeName][0]))+\" \"+unit)"
   ]
  }
 ],
 "metadata": {
  "kernelspec": {
   "display_name": "Python 3",
   "language": "python",
   "name": "python3"
  },
  "language_info": {
   "codemirror_mode": {
    "name": "ipython",
    "version": 3
   },
   "file_extension": ".py",
   "mimetype": "text/x-python",
   "name": "python",
   "nbconvert_exporter": "python",
   "pygments_lexer": "ipython3",
   "version": "3.5.2"
  }
 },
 "nbformat": 4,
 "nbformat_minor": 2
}
