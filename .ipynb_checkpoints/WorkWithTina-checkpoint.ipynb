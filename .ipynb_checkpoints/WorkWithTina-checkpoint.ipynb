{
 "cells": [
  {
   "cell_type": "code",
   "execution_count": 1,
   "metadata": {},
   "outputs": [
    {
     "name": "stdout",
     "output_type": "stream",
     "text": [
      "{'klaidas': 16, 'tina': 47, 'denzeeeeeee': 17, 'bob': 56, 'Jimmy': 21}\n",
      "key = klaidas || value = 16\n",
      "key = tina || value = 47\n",
      "key = denzeeeeeee || value = 17\n",
      "key = bob || value = 56\n",
      "key = Jimmy || value = 21\n",
      "klaidas : 16\n",
      "tina : 47\n",
      "denzeeeeeee : 17\n",
      "bob : 56\n",
      "Jimmy : 21\n"
     ]
    }
   ],
   "source": [
    "# a dictionary is an unordered (NOT a sequence) group f key+value pairs\n",
    "# each key must be unique\n",
    "# a method of structuring data that does not require numbering that data\n",
    "\n",
    "# a dictionary of names (key) and ages (Value)\n",
    "nameAgeDict = {} #creating an empty dictionary\n",
    "\n",
    "#let's put key:value pairs into our dict\n",
    "\n",
    "nameAgeDict['klaidas'] = 16\n",
    "nameAgeDict['denzeeeeeee'] = 17\n",
    "nameAgeDict['bob'] = 56\n",
    "nameAgeDict['Jimmy'] = 21\n",
    "nameAgeDict['tina'] = 47\n",
    "\n",
    "print(nameAgeDict) # debug\n",
    "\n",
    "for key in nameAgeDict:\n",
    "    print('key = {} || value = {}'.format(key, nameAgeDict[key]))\n",
    "    \n",
    "for key, value in nameAgeDict.items():\n",
    "    print('{} : {}'.format(key, value))"
   ]
  },
  {
   "cell_type": "code",
   "execution_count": 9,
   "metadata": {},
   "outputs": [
    {
     "name": "stdout",
     "output_type": "stream",
     "text": [
      "Enter eye colour: blue\n",
      "Enter a name: klaidas\n",
      "do you want to continue(y/n): y\n",
      "Enter eye colour: brown\n",
      "Enter a name: denzee\n",
      "do you want to continue(y/n): n\n",
      "=----------------------------------------=\n",
      "klaidas : blue\n",
      "denzee : brown\n",
      "=----------------------------------------=\n",
      "blue : 1\n",
      "brown : 1\n"
     ]
    }
   ],
   "source": [
    "#eye colour dictionary. Store everyon's eye colour\n",
    "# ask the user to enter the eye colour\n",
    "# do some stats - most common eye  colour, least common eye colour, prints all other colours.\n",
    "eyeColourDict = {}\n",
    "eyeColourCountDict = {} #Add more colours in here(make sure the value is 0)\n",
    "\n",
    "cont = 'y' # assume we don't want to stop before we've started\n",
    "while cont == 'y':\n",
    "    #ask he user to enter their name\n",
    "    #ask the user to enter their eyecolour\n",
    "    #put the data into the dictionary\n",
    "    #ask theh user wheather they want to continue or stop\n",
    "    \n",
    "    eyeColourDict[input('Enter a name: ')] = input('Enter eye colour: ') #allows the user to input eye colour and name and stores it in the dictionary\n",
    "    \n",
    "    cont = input('do you want to continue(y/n): ').lower() #to stop the code from running\n",
    "    \n",
    "for key, value in eyeColourDict.items(): #no hard coded colours in the program.\n",
    "    eyeColourCountDict[value] = 0\n",
    "    \n",
    "for key, value in eyeColourDict.items(): #gets each key and value one by one\n",
    "    if value in eyeColourCountDict: #checks if the value is in the count dictionary\n",
    "        eyeColourCountDict[value] = eyeColourCountDict[value] + 1 # increases the count\n",
    "    else:\n",
    "        print('Sorry We are unable to count the amount of {} eye coloured people since its not in my dictionary'.format(vlaue))\n",
    "\n",
    "print('='+'-'*40+'=')\n",
    "for key, value in eyeColourDict.items():\n",
    "    print(key, ':', value) # prints out the name and eye colour\n",
    "\n",
    "print('='+'-'*40+'=')\n",
    "for key, value in eyeColourCountDict.items():\n",
    "    print(key, ':', value) # prints out the count of eye colour\n",
    "\n",
    "    \n",
    "\n",
    "#print(eyeColourDict) #debug\n",
    "#print(eyeColourCountDict) #debug\n"
   ]
  }
 ],
 "metadata": {
  "kernelspec": {
   "display_name": "Python 3",
   "language": "python",
   "name": "python3"
  },
  "language_info": {
   "codemirror_mode": {
    "name": "ipython",
    "version": 3
   },
   "file_extension": ".py",
   "mimetype": "text/x-python",
   "name": "python",
   "nbconvert_exporter": "python",
   "pygments_lexer": "ipython3",
   "version": "3.5.2"
  }
 },
 "nbformat": 4,
 "nbformat_minor": 2
}
